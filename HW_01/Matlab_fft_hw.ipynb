{
 "cells": [
  {
   "cell_type": "code",
   "execution_count": null,
   "metadata": {},
   "outputs": [],
   "source": [
    "from scipy.io import loadmat\n",
    "import os\n",
    "import numpy as np\n",
    "import matplotlib.pyplot as plt\n",
    "\n",
    "import plotly.graph_objects as go"
   ]
  },
  {
   "cell_type": "code",
   "execution_count": null,
   "metadata": {},
   "outputs": [],
   "source": [
    "os.chdir('/Users/kurtsmith/dev/AMATH_482/HW_01/')\n",
    "testdata = loadmat('./Testdata.mat')\n",
    "Undata = testdata['Undata']"
   ]
  },
  {
   "cell_type": "code",
   "execution_count": null,
   "metadata": {},
   "outputs": [],
   "source": [
    "L = 15; # spatial domain\n",
    "n = 64; # Fourier modes, i.e. # of points in spatial range (2^6)\n",
    "x2 = np.linspace(-L,L,n+1); \n",
    "\n",
    "x = x2[:-1]; # x-coord of each point in the discretized spatial range [-15,15)\n",
    "y = x;  # y-coord of each point in the discretized spatial range [-15,15)\n",
    "z = x;  # z-coord of each point in the discretized spatial range [-15,15)\n",
    "\n",
    "k = (2*np.pi/(2*L))*np.concatenate((np.arange(n/2) , np.arange(-n/2, 0) ))\n",
    "ks=np.fft.fftshift(k);\n",
    "\n",
    "# grid with spatial coordinates\n",
    "X,Y,Z = np.meshgrid(x,y,z)\n",
    "# grid with frequency values\n",
    "Kx,Ky,Kz = np.meshgrid(ks,ks,ks)"
   ]
  },
  {
   "cell_type": "code",
   "execution_count": null,
   "metadata": {},
   "outputs": [],
   "source": [
    "mean_fft = np.zeros([n,n,n]); \n",
    "for j in range(20):  \n",
    "    Un = Undata[j,:].reshape((n,n,n))\n",
    "    mean_fft = mean_fft + np.fft.fftn(Un);\n",
    "\n",
    "mean_fft = np.abs(mean_fft)/20;  \n",
    "\n",
    "display(np.abs(mean_fft).mean())\n",
    "\n",
    "# vectorizes the matrix and get max value\n",
    "max_signal = np.max(mean_fft)  \n",
    "max_index = np.argmax(mean_fft)\n",
    "max_index = np.unravel_index(max_index, (n,n,n))\n",
    "\n",
    "display(max_signal, max_index)"
   ]
  },
  {
   "cell_type": "code",
   "execution_count": null,
   "metadata": {},
   "outputs": [],
   "source": [
    "# Alternate method, do FFT last.\n",
    "# Result is same as above\n",
    "mean_fft = np.zeros([n,n,n]); \n",
    "for j in range(20):  \n",
    "    Un = Undata[j,:].reshape((n,n,n))\n",
    "    mean_fft = mean_fft + Un;\n",
    "\n",
    "mean_fft = mean_fft/20;  \n",
    "mean_fft = np.fft.fftn(mean_fft)\n",
    "\n",
    "mean_fft = np.abs(mean_fft)\n",
    "\n",
    "display(np.abs(mean_fft).mean())\n",
    "\n",
    "# vectorizes the matrix and get max value\n",
    "max_signal = np.max(mean_fft)  \n",
    "max_index = np.argmax(mean_fft)\n",
    "max_index = np.unravel_index(max_index, (n,n,n))\n",
    "\n",
    "display(max_signal, max_index)"
   ]
  },
  {
   "cell_type": "code",
   "execution_count": null,
   "metadata": {},
   "outputs": [],
   "source": [
    "kx_center = Kx[max_index]\n",
    "ky_center = Ky[max_index]\n",
    "kz_center = Kz[max_index]\n",
    "\n",
    "Kx_shifted = Kx - kx_center\n",
    "Ky_shifted = Ky - ky_center\n",
    "Kz_shifted = Kz - kz_center\n",
    "\n",
    "k_shift_sq = Kx_shifted*Kx_shifted + Ky_shifted*Ky_shifted + Kz_shifted*Kz_shifted\n",
    "filter_weight = np.exp(-0.5*k_shift_sq)"
   ]
  },
  {
   "cell_type": "code",
   "execution_count": null,
   "metadata": {},
   "outputs": [],
   "source": [
    "display(kx_center, ky_center, kz_center)"
   ]
  },
  {
   "cell_type": "code",
   "execution_count": null,
   "metadata": {},
   "outputs": [],
   "source": [
    "def plot_iso(Un_filtered, X, Y, Z):\n",
    "    fig= go.Figure(data=go.Isosurface(\n",
    "        x=X.flatten(),\n",
    "        y=Y.flatten(),\n",
    "        z=Z.flatten(),\n",
    "        value=np.abs(Un_filtered).flatten(),\n",
    "#          isomin=0.04, isomax=10.041\n",
    "        isomin=0.5*np.abs(Un_filtered).max(),\n",
    "        isomax=1*np.abs(Un_filtered).max(),\n",
    "    ))\n",
    "    fig.show()"
   ]
  },
  {
   "cell_type": "code",
   "execution_count": null,
   "metadata": {},
   "outputs": [],
   "source": [
    "def plot_slice(j, Undata, filter_weight, X, Y, Z):\n",
    "    Un = Undata[j,:].reshape((n,n,n))\n",
    "    Un_fft = np.fft.fftn(Un)  \n",
    "    Un_fft_filtered = Un_fft*filter_weight\n",
    "    Un_filtered = np.fft.ifftn(Un_fft_filtered)\n",
    "    plot_iso(Un_filtered, X, Y, Z)\n",
    "    return Un_filtered, Un_fft_filtered"
   ]
  },
  {
   "cell_type": "code",
   "execution_count": null,
   "metadata": {
    "scrolled": false
   },
   "outputs": [],
   "source": [
    "Un_filtered, Un_fft_filtered = plot_slice(0, Undata, filter_weight, X, Y, Z)"
   ]
  },
  {
   "cell_type": "code",
   "execution_count": null,
   "metadata": {},
   "outputs": [],
   "source": [
    "fig= go.Figure(data=go.Isosurface(\n",
    "    x=Kx.flatten(),\n",
    "    y=Ky.flatten(),\n",
    "    z=Kz.flatten(),\n",
    "    value=np.abs(Un_fft_filtered).flatten(),\n",
    "    isomin=100.,\n",
    "    isomax=200.,\n",
    "))\n",
    "\n",
    "fig.show()"
   ]
  },
  {
   "cell_type": "code",
   "execution_count": null,
   "metadata": {},
   "outputs": [],
   "source": [
    "x = np.fft.fftshift(Un_fft_filtered)\n",
    "\n",
    "\n",
    "fig= go.Figure(data=go.Isosurface(\n",
    "    x=Kx.flatten(),\n",
    "    y=Ky.flatten(),\n",
    "    z=Kz.flatten(),\n",
    "    value=np.abs(x).flatten(),\n",
    "    isomin=100.,\n",
    "    isomax=200.,\n",
    "))\n",
    "\n",
    "fig.show()"
   ]
  },
  {
   "cell_type": "code",
   "execution_count": null,
   "metadata": {},
   "outputs": [],
   "source": [
    "fig= go.Figure(data=go.Isosurface(\n",
    "    x=Kx.flatten(),\n",
    "    y=Ky.flatten(),\n",
    "    z=Kz.flatten(),\n",
    "    value=filter_weight.flatten(),\n",
    "    isomin=0.2,\n",
    "    isomax=1.0,\n",
    "))\n",
    "\n",
    "fig.show()"
   ]
  },
  {
   "cell_type": "code",
   "execution_count": null,
   "metadata": {},
   "outputs": [],
   "source": [
    "z_index=10\n",
    "plt.contour(X[:,:,z_index], Y[:,:,z_index], np.abs(Un_filtered[:,:,z_index]))"
   ]
  }
 ],
 "metadata": {
  "kernelspec": {
   "display_name": "Python 3",
   "language": "python",
   "name": "python3"
  },
  "language_info": {
   "codemirror_mode": {
    "name": "ipython",
    "version": 3
   },
   "file_extension": ".py",
   "mimetype": "text/x-python",
   "name": "python",
   "nbconvert_exporter": "python",
   "pygments_lexer": "ipython3",
   "version": "3.7.3"
  }
 },
 "nbformat": 4,
 "nbformat_minor": 2
}
