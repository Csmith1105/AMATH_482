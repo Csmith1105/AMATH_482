{
 "cells": [
  {
   "cell_type": "code",
   "execution_count": 87,
   "metadata": {},
   "outputs": [],
   "source": [
    "import numpy as np\n",
    "import tensorflow as tf\n",
    "import matplotlib.pyplot as plt\n",
    "import pandas as pd\n",
    "from sklearn.metrics import confusion_matrix"
   ]
  },
  {
   "cell_type": "code",
   "execution_count": 88,
   "metadata": {},
   "outputs": [],
   "source": [
    "fashion_mnist = tf.keras.datasets.fashion_mnist\n",
    "(X_train_full, y_train_full), (X_test, y_test) = fashion_mnist.load_data()"
   ]
  },
  {
   "cell_type": "code",
   "execution_count": 89,
   "metadata": {},
   "outputs": [],
   "source": [
    "X_valid = X_train_full[:5000] / 255.0\n",
    "X_train = X_train_full[5000:] / 255.0\n",
    "X_test = X_test / 255.0\n",
    "\n",
    "y_valid = y_train_full[:5000]\n",
    "y_train = y_train_full[5000:]\n",
    "\n",
    "#55000x28x28x1 (because it's greyscale, if RGB would be x3)\n",
    "\n",
    "X_train = X_train[..., np.newaxis]\n",
    "X_valid = X_valid[..., np.newaxis]\n",
    "X_test = X_test[..., np.newaxis]"
   ]
  },
  {
   "cell_type": "code",
   "execution_count": 90,
   "metadata": {},
   "outputs": [],
   "source": [
    "from functools import partial\n",
    "\n",
    "my_dense_layer = partial(tf.keras.layers.Dense, activation=\"relu\", \\\n",
    "                         kernel_regularizer=tf.keras.regularizers.l2(0.0001))\n",
    "my_conv_layer = partial(tf.keras.layers.Conv2D, activation=\"relu\", padding=\"valid\")\n",
    "\n",
    "model = tf.keras.models.Sequential([\n",
    "    # we don't have to flatten the images for conv layers\n",
    "    my_conv_layer(5,10,padding=\"same\",input_shape=[28,28,1]),\n",
    "    my_conv_layer(5,10,padding=\"same\",input_shape=[28,28,1]),\n",
    "    my_conv_layer(5,10,padding=\"same\",input_shape=[28,28,1]),\n",
    "    tf.keras.layers.AveragePooling2D(2),\n",
    "    my_conv_layer(16,5),\n",
    "    tf.keras.layers.AveragePooling2D(2),\n",
    "    # flatten before reverting to dense layers\n",
    "    tf.keras.layers.Flatten(),\n",
    "    my_dense_layer(84),\n",
    "    my_dense_layer(10, activation=\"softmax\")\n",
    "])"
   ]
  },
  {
   "cell_type": "code",
   "execution_count": 91,
   "metadata": {},
   "outputs": [],
   "source": [
    "model.compile(loss=\"sparse_categorical_crossentropy\",\n",
    "             optimizer=tf.keras.optimizers.Adam(learning_rate=0.0001),\n",
    "             metrics=[\"accuracy\"])"
   ]
  },
  {
   "cell_type": "code",
   "execution_count": 92,
   "metadata": {},
   "outputs": [
    {
     "name": "stdout",
     "output_type": "stream",
     "text": [
      "Train on 55000 samples, validate on 5000 samples\n",
      "Epoch 1/5\n",
      "55000/55000 [==============================] - 2495s 45ms/sample - loss: 0.8188 - accuracy: 0.7010 - val_loss: 0.5979 - val_accuracy: 0.7866\n",
      "Epoch 2/5\n",
      "55000/55000 [==============================] - 604s 11ms/sample - loss: 0.5819 - accuracy: 0.7885 - val_loss: 0.5240 - val_accuracy: 0.8148\n",
      "Epoch 3/5\n",
      "55000/55000 [==============================] - 326s 6ms/sample - loss: 0.5189 - accuracy: 0.8132 - val_loss: 0.4996 - val_accuracy: 0.8238\n",
      "Epoch 4/5\n",
      "55000/55000 [==============================] - 325s 6ms/sample - loss: 0.4823 - accuracy: 0.8278 - val_loss: 0.4687 - val_accuracy: 0.8332\n",
      "Epoch 5/5\n",
      "55000/55000 [==============================] - 327s 6ms/sample - loss: 0.4573 - accuracy: 0.8373 - val_loss: 0.4613 - val_accuracy: 0.8380\n"
     ]
    }
   ],
   "source": [
    "history = model.fit(X_train, y_train, epochs=5, validation_data=(X_valid,y_valid))"
   ]
  },
  {
   "cell_type": "code",
   "execution_count": 7,
   "metadata": {},
   "outputs": [
    {
     "data": {
      "image/png": "[encoded data removed]",
      "text/plain": [
       "<Figure size 576x360 with 1 Axes>"
      ]
     },
     "metadata": {
      "needs_background": "light"
     },
     "output_type": "display_data"
    }
   ],
   "source": [
    "pd.DataFrame(history.history).plot(figsize=(8,5))\n",
    "plt.grid(True)\n",
    "plt.gca().set_ylim(0,1)\n",
    "plt.show()"
   ]
  },
  {
   "cell_type": "code",
   "execution_count": 10,
   "metadata": {},
   "outputs": [
    {
     "name": "stdout",
     "output_type": "stream",
     "text": [
      "[[5402    0    3    6    0    6   13    1   10    3]\n",
      " [   0 6153    3    9    0    0    0   10    3    1]\n",
      " [   1    4 5438   15    1    0    0    9    1    1]\n",
      " [   0    0    7 5612    0    5    0    3    5    6]\n",
      " [   0    5    2    0 5253    0    7    1    2   37]\n",
      " [   1    1    0   46    1 4905   26    0    4    3]\n",
      " [   1    6    1    0    1    1 5404    0    3    0]\n",
      " [   0    7    5   15   14    1    0 5656    3   14]\n",
      " [   1   13    6   33    5    4    4    1 5308   14]\n",
      " [   5    3    1   19    9    7    1    9    2 5398]]\n"
     ]
    }
   ],
   "source": [
    "y_pred = model.predict_classes(X_train)\n",
    "conf_train = confusion_matrix(y_train, y_pred)\n",
    "print(conf_train)"
   ]
  },
  {
   "cell_type": "code",
   "execution_count": 11,
   "metadata": {},
   "outputs": [
    {
     "name": "stdout",
     "output_type": "stream",
     "text": [
      "10000/10000 [==============================] - 2s 221us/sample - loss: 0.0699 - accuracy: 0.9833\n"
     ]
    },
    {
     "data": {
      "text/plain": [
       "[0.06994416005015373, 0.9833]"
      ]
     },
     "execution_count": 11,
     "metadata": {},
     "output_type": "execute_result"
    }
   ],
   "source": [
    "model.evaluate(X_test,y_test) "
   ]
  },
  {
   "cell_type": "code",
   "execution_count": 8,
   "metadata": {},
   "outputs": [
    {
     "name": "stdout",
     "output_type": "stream",
     "text": [
      "[[ 972    0    1    1    0    1    1    0    2    2]\n",
      " [   0 1133    1    1    0    0    0    0    0    0]\n",
      " [   1    3 1019    3    1    0    0    3    1    1]\n",
      " [   0    0    1 1005    0    0    0    1    0    3]\n",
      " [   0    0    4    1  964    0    2    2    0    9]\n",
      " [   1    0    0   23    1  863    1    1    0    2]\n",
      " [   8    3    1    1    4    4  935    0    2    0]\n",
      " [   1    4    8    4    0    0    0 1002    1    8]\n",
      " [   1    0    4    5    4    1    1    2  951    5]\n",
      " [   1    3    0    3   11    1    0    3    0  987]]\n"
     ]
    }
   ],
   "source": [
    "y_pred = model.predict_classes(X_test)\n",
    "conf_test = confusion_matrix(y_test, y_pred)\n",
    "print(conf_test)"
   ]
  },
  {
   "cell_type": "code",
   "execution_count": 9,
   "metadata": {},
   "outputs": [
    {
     "data": {
      "image/png": "[encoded data removed]",
      "text/plain": [
       "<Figure size 432x288 with 1 Axes>"
      ]
     },
     "metadata": {
      "needs_background": "light"
     },
     "output_type": "display_data"
    }
   ],
   "source": [
    "fig, ax = plt.subplots()\n",
    "\n",
    "# hide axes\n",
    "fig.patch.set_visible(False)\n",
    "ax.axis('off')\n",
    "ax.axis('tight')\n",
    "\n",
    "# create table and save to file\n",
    "df = pd.DataFrame(conf_test)\n",
    "ax.table(cellText=df.values, rowLabels=np.arange(10), colLabels=np.arange(10), loc='center', cellLoc='center')\n",
    "fig.tight_layout()\n",
    "plt.savefig('conf_mat.pdf')"
   ]
  },
  {
   "cell_type": "code",
   "execution_count": null,
   "metadata": {
    "collapsed": true
   },
   "outputs": [],
   "source": []
  }
 ],
 "metadata": {
  "kernelspec": {
   "display_name": "amath482",
   "language": "python",
   "name": "amath482"
  },
  "language_info": {
   "codemirror_mode": {
    "name": "ipython",
    "version": 3
   },
   "file_extension": ".py",
   "mimetype": "text/x-python",
   "name": "python",
   "nbconvert_exporter": "python",
   "pygments_lexer": "ipython3",
   "version": "3.7.6"
  }
 },
 "nbformat": 4,
 "nbformat_minor": 2
}
